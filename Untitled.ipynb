{
 "cells": [
  {
   "cell_type": "code",
   "execution_count": 17,
   "metadata": {},
   "outputs": [
    {
     "name": "stdout",
     "output_type": "stream",
     "text": [
      "3.14162344\n"
     ]
    }
   ],
   "source": [
    "import random as rd\n",
    "import math as m\n",
    "\n",
    "inside = 0\n",
    "total = 0\n",
    "for _ in range(0, 100000000):\n",
    "    x = rd.random()\n",
    "    y = rd.random()\n",
    "    dist = m.sqrt((x*x) + (y*y))\n",
    "    if dist<1:\n",
    "        inside = inside + 1\n",
    "    total = total + 1\n",
    "    \n",
    "print((inside/total)*4)"
   ]
  }
 ],
 "metadata": {
  "kernelspec": {
   "display_name": "Python 3",
   "language": "python",
   "name": "python3"
  },
  "language_info": {
   "codemirror_mode": {
    "name": "ipython",
    "version": 3
   },
   "file_extension": ".py",
   "mimetype": "text/x-python",
   "name": "python",
   "nbconvert_exporter": "python",
   "pygments_lexer": "ipython3",
   "version": "3.8.5"
  }
 },
 "nbformat": 4,
 "nbformat_minor": 4
}
